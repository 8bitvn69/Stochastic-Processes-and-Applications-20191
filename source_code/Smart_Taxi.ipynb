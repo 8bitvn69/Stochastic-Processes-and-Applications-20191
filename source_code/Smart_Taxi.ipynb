{
  "nbformat": 4,
  "nbformat_minor": 0,
  "metadata": {
    "colab": {
      "name": "Smart Taxi",
      "provenance": [],
      "collapsed_sections": []
    },
    "kernelspec": {
      "name": "python3",
      "display_name": "Python 3"
    },
    "widgets": {
      "application/vnd.jupyter.widget-state+json": {
        "f04cc46f41fb48a9b091096f19ca45d3": {
          "model_module": "@jupyter-widgets/controls",
          "model_name": "HBoxModel",
          "state": {
            "_view_name": "HBoxView",
            "_dom_classes": [],
            "_model_name": "HBoxModel",
            "_view_module": "@jupyter-widgets/controls",
            "_model_module_version": "1.5.0",
            "_view_count": null,
            "_view_module_version": "1.5.0",
            "box_style": "",
            "layout": "IPY_MODEL_af3c3a4696664c5489296cf826c1f1a6",
            "_model_module": "@jupyter-widgets/controls",
            "children": [
              "IPY_MODEL_851219b462444e35ad52ed1aa9c1b00a",
              "IPY_MODEL_43436a3b790c4d94bb0b9dad539e7cbf"
            ]
          }
        },
        "af3c3a4696664c5489296cf826c1f1a6": {
          "model_module": "@jupyter-widgets/base",
          "model_name": "LayoutModel",
          "state": {
            "_view_name": "LayoutView",
            "grid_template_rows": null,
            "right": null,
            "justify_content": null,
            "_view_module": "@jupyter-widgets/base",
            "overflow": null,
            "_model_module_version": "1.2.0",
            "_view_count": null,
            "flex_flow": null,
            "width": null,
            "min_width": null,
            "border": null,
            "align_items": null,
            "bottom": null,
            "_model_module": "@jupyter-widgets/base",
            "top": null,
            "grid_column": null,
            "overflow_y": null,
            "overflow_x": null,
            "grid_auto_flow": null,
            "grid_area": null,
            "grid_template_columns": null,
            "flex": null,
            "_model_name": "LayoutModel",
            "justify_items": null,
            "grid_row": null,
            "max_height": null,
            "align_content": null,
            "visibility": null,
            "align_self": null,
            "height": null,
            "min_height": null,
            "padding": null,
            "grid_auto_rows": null,
            "grid_gap": null,
            "max_width": null,
            "order": null,
            "_view_module_version": "1.2.0",
            "grid_template_areas": null,
            "object_position": null,
            "object_fit": null,
            "grid_auto_columns": null,
            "margin": null,
            "display": null,
            "left": null
          }
        },
        "851219b462444e35ad52ed1aa9c1b00a": {
          "model_module": "@jupyter-widgets/controls",
          "model_name": "IntProgressModel",
          "state": {
            "_view_name": "ProgressView",
            "style": "IPY_MODEL_49ca4f7100bc43e8b35ed3923b0da557",
            "_dom_classes": [],
            "description": "",
            "_model_name": "IntProgressModel",
            "bar_style": "success",
            "max": 100000,
            "_view_module": "@jupyter-widgets/controls",
            "_model_module_version": "1.5.0",
            "value": 100000,
            "_view_count": null,
            "_view_module_version": "1.5.0",
            "orientation": "horizontal",
            "min": 0,
            "description_tooltip": null,
            "_model_module": "@jupyter-widgets/controls",
            "layout": "IPY_MODEL_57c3509721ba48dd86f63b75277b830b"
          }
        },
        "43436a3b790c4d94bb0b9dad539e7cbf": {
          "model_module": "@jupyter-widgets/controls",
          "model_name": "HTMLModel",
          "state": {
            "_view_name": "HTMLView",
            "style": "IPY_MODEL_f00786fd7a0343aa892d8e86ef599dfa",
            "_dom_classes": [],
            "description": "",
            "_model_name": "HTMLModel",
            "placeholder": "​",
            "_view_module": "@jupyter-widgets/controls",
            "_model_module_version": "1.5.0",
            "value": "100% 100000/100000 [01:53&lt;00:00, 880.98it/s]",
            "_view_count": null,
            "_view_module_version": "1.5.0",
            "description_tooltip": null,
            "_model_module": "@jupyter-widgets/controls",
            "layout": "IPY_MODEL_153347e3234549eeaeb85b4c242f9b56"
          }
        },
        "49ca4f7100bc43e8b35ed3923b0da557": {
          "model_module": "@jupyter-widgets/controls",
          "model_name": "ProgressStyleModel",
          "state": {
            "_view_name": "StyleView",
            "_model_name": "ProgressStyleModel",
            "description_width": "",
            "_view_module": "@jupyter-widgets/base",
            "_model_module_version": "1.5.0",
            "_view_count": null,
            "_view_module_version": "1.2.0",
            "bar_color": null,
            "_model_module": "@jupyter-widgets/controls"
          }
        },
        "57c3509721ba48dd86f63b75277b830b": {
          "model_module": "@jupyter-widgets/base",
          "model_name": "LayoutModel",
          "state": {
            "_view_name": "LayoutView",
            "grid_template_rows": null,
            "right": null,
            "justify_content": null,
            "_view_module": "@jupyter-widgets/base",
            "overflow": null,
            "_model_module_version": "1.2.0",
            "_view_count": null,
            "flex_flow": null,
            "width": null,
            "min_width": null,
            "border": null,
            "align_items": null,
            "bottom": null,
            "_model_module": "@jupyter-widgets/base",
            "top": null,
            "grid_column": null,
            "overflow_y": null,
            "overflow_x": null,
            "grid_auto_flow": null,
            "grid_area": null,
            "grid_template_columns": null,
            "flex": null,
            "_model_name": "LayoutModel",
            "justify_items": null,
            "grid_row": null,
            "max_height": null,
            "align_content": null,
            "visibility": null,
            "align_self": null,
            "height": null,
            "min_height": null,
            "padding": null,
            "grid_auto_rows": null,
            "grid_gap": null,
            "max_width": null,
            "order": null,
            "_view_module_version": "1.2.0",
            "grid_template_areas": null,
            "object_position": null,
            "object_fit": null,
            "grid_auto_columns": null,
            "margin": null,
            "display": null,
            "left": null
          }
        },
        "f00786fd7a0343aa892d8e86ef599dfa": {
          "model_module": "@jupyter-widgets/controls",
          "model_name": "DescriptionStyleModel",
          "state": {
            "_view_name": "StyleView",
            "_model_name": "DescriptionStyleModel",
            "description_width": "",
            "_view_module": "@jupyter-widgets/base",
            "_model_module_version": "1.5.0",
            "_view_count": null,
            "_view_module_version": "1.2.0",
            "_model_module": "@jupyter-widgets/controls"
          }
        },
        "153347e3234549eeaeb85b4c242f9b56": {
          "model_module": "@jupyter-widgets/base",
          "model_name": "LayoutModel",
          "state": {
            "_view_name": "LayoutView",
            "grid_template_rows": null,
            "right": null,
            "justify_content": null,
            "_view_module": "@jupyter-widgets/base",
            "overflow": null,
            "_model_module_version": "1.2.0",
            "_view_count": null,
            "flex_flow": null,
            "width": null,
            "min_width": null,
            "border": null,
            "align_items": null,
            "bottom": null,
            "_model_module": "@jupyter-widgets/base",
            "top": null,
            "grid_column": null,
            "overflow_y": null,
            "overflow_x": null,
            "grid_auto_flow": null,
            "grid_area": null,
            "grid_template_columns": null,
            "flex": null,
            "_model_name": "LayoutModel",
            "justify_items": null,
            "grid_row": null,
            "max_height": null,
            "align_content": null,
            "visibility": null,
            "align_self": null,
            "height": null,
            "min_height": null,
            "padding": null,
            "grid_auto_rows": null,
            "grid_gap": null,
            "max_width": null,
            "order": null,
            "_view_module_version": "1.2.0",
            "grid_template_areas": null,
            "object_position": null,
            "object_fit": null,
            "grid_auto_columns": null,
            "margin": null,
            "display": null,
            "left": null
          }
        },
        "b5dfac5f3598465b9f87227295d55697": {
          "model_module": "@jupyter-widgets/controls",
          "model_name": "HBoxModel",
          "state": {
            "_view_name": "HBoxView",
            "_dom_classes": [],
            "_model_name": "HBoxModel",
            "_view_module": "@jupyter-widgets/controls",
            "_model_module_version": "1.5.0",
            "_view_count": null,
            "_view_module_version": "1.5.0",
            "box_style": "",
            "layout": "IPY_MODEL_07d529d7bfab4ebc9e0153a50fbec3fd",
            "_model_module": "@jupyter-widgets/controls",
            "children": [
              "IPY_MODEL_33b813e1cd894832bf0a737a22fc32da",
              "IPY_MODEL_a77b4d0b7ed0459298d3a09ac3299541"
            ]
          }
        },
        "07d529d7bfab4ebc9e0153a50fbec3fd": {
          "model_module": "@jupyter-widgets/base",
          "model_name": "LayoutModel",
          "state": {
            "_view_name": "LayoutView",
            "grid_template_rows": null,
            "right": null,
            "justify_content": null,
            "_view_module": "@jupyter-widgets/base",
            "overflow": null,
            "_model_module_version": "1.2.0",
            "_view_count": null,
            "flex_flow": null,
            "width": null,
            "min_width": null,
            "border": null,
            "align_items": null,
            "bottom": null,
            "_model_module": "@jupyter-widgets/base",
            "top": null,
            "grid_column": null,
            "overflow_y": null,
            "overflow_x": null,
            "grid_auto_flow": null,
            "grid_area": null,
            "grid_template_columns": null,
            "flex": null,
            "_model_name": "LayoutModel",
            "justify_items": null,
            "grid_row": null,
            "max_height": null,
            "align_content": null,
            "visibility": null,
            "align_self": null,
            "height": null,
            "min_height": null,
            "padding": null,
            "grid_auto_rows": null,
            "grid_gap": null,
            "max_width": null,
            "order": null,
            "_view_module_version": "1.2.0",
            "grid_template_areas": null,
            "object_position": null,
            "object_fit": null,
            "grid_auto_columns": null,
            "margin": null,
            "display": null,
            "left": null
          }
        },
        "33b813e1cd894832bf0a737a22fc32da": {
          "model_module": "@jupyter-widgets/controls",
          "model_name": "IntProgressModel",
          "state": {
            "_view_name": "ProgressView",
            "style": "IPY_MODEL_0205d4580d71468989933787d88b35d0",
            "_dom_classes": [],
            "description": "",
            "_model_name": "IntProgressModel",
            "bar_style": "success",
            "max": 1000,
            "_view_module": "@jupyter-widgets/controls",
            "_model_module_version": "1.5.0",
            "value": 1000,
            "_view_count": null,
            "_view_module_version": "1.5.0",
            "orientation": "horizontal",
            "min": 0,
            "description_tooltip": null,
            "_model_module": "@jupyter-widgets/controls",
            "layout": "IPY_MODEL_5932c082305c49f59ccbf4137259ab75"
          }
        },
        "a77b4d0b7ed0459298d3a09ac3299541": {
          "model_module": "@jupyter-widgets/controls",
          "model_name": "HTMLModel",
          "state": {
            "_view_name": "HTMLView",
            "style": "IPY_MODEL_7bad17e32d0349b686bd02265aa9d4bc",
            "_dom_classes": [],
            "description": "",
            "_model_name": "HTMLModel",
            "placeholder": "​",
            "_view_module": "@jupyter-widgets/controls",
            "_model_module_version": "1.5.0",
            "value": "100% 1000/1000 [00:00&lt;00:00, 4679.00it/s]",
            "_view_count": null,
            "_view_module_version": "1.5.0",
            "description_tooltip": null,
            "_model_module": "@jupyter-widgets/controls",
            "layout": "IPY_MODEL_25b80a5be8724a1e9c1c4c4b1a2c8ec0"
          }
        },
        "0205d4580d71468989933787d88b35d0": {
          "model_module": "@jupyter-widgets/controls",
          "model_name": "ProgressStyleModel",
          "state": {
            "_view_name": "StyleView",
            "_model_name": "ProgressStyleModel",
            "description_width": "",
            "_view_module": "@jupyter-widgets/base",
            "_model_module_version": "1.5.0",
            "_view_count": null,
            "_view_module_version": "1.2.0",
            "bar_color": null,
            "_model_module": "@jupyter-widgets/controls"
          }
        },
        "5932c082305c49f59ccbf4137259ab75": {
          "model_module": "@jupyter-widgets/base",
          "model_name": "LayoutModel",
          "state": {
            "_view_name": "LayoutView",
            "grid_template_rows": null,
            "right": null,
            "justify_content": null,
            "_view_module": "@jupyter-widgets/base",
            "overflow": null,
            "_model_module_version": "1.2.0",
            "_view_count": null,
            "flex_flow": null,
            "width": null,
            "min_width": null,
            "border": null,
            "align_items": null,
            "bottom": null,
            "_model_module": "@jupyter-widgets/base",
            "top": null,
            "grid_column": null,
            "overflow_y": null,
            "overflow_x": null,
            "grid_auto_flow": null,
            "grid_area": null,
            "grid_template_columns": null,
            "flex": null,
            "_model_name": "LayoutModel",
            "justify_items": null,
            "grid_row": null,
            "max_height": null,
            "align_content": null,
            "visibility": null,
            "align_self": null,
            "height": null,
            "min_height": null,
            "padding": null,
            "grid_auto_rows": null,
            "grid_gap": null,
            "max_width": null,
            "order": null,
            "_view_module_version": "1.2.0",
            "grid_template_areas": null,
            "object_position": null,
            "object_fit": null,
            "grid_auto_columns": null,
            "margin": null,
            "display": null,
            "left": null
          }
        },
        "7bad17e32d0349b686bd02265aa9d4bc": {
          "model_module": "@jupyter-widgets/controls",
          "model_name": "DescriptionStyleModel",
          "state": {
            "_view_name": "StyleView",
            "_model_name": "DescriptionStyleModel",
            "description_width": "",
            "_view_module": "@jupyter-widgets/base",
            "_model_module_version": "1.5.0",
            "_view_count": null,
            "_view_module_version": "1.2.0",
            "_model_module": "@jupyter-widgets/controls"
          }
        },
        "25b80a5be8724a1e9c1c4c4b1a2c8ec0": {
          "model_module": "@jupyter-widgets/base",
          "model_name": "LayoutModel",
          "state": {
            "_view_name": "LayoutView",
            "grid_template_rows": null,
            "right": null,
            "justify_content": null,
            "_view_module": "@jupyter-widgets/base",
            "overflow": null,
            "_model_module_version": "1.2.0",
            "_view_count": null,
            "flex_flow": null,
            "width": null,
            "min_width": null,
            "border": null,
            "align_items": null,
            "bottom": null,
            "_model_module": "@jupyter-widgets/base",
            "top": null,
            "grid_column": null,
            "overflow_y": null,
            "overflow_x": null,
            "grid_auto_flow": null,
            "grid_area": null,
            "grid_template_columns": null,
            "flex": null,
            "_model_name": "LayoutModel",
            "justify_items": null,
            "grid_row": null,
            "max_height": null,
            "align_content": null,
            "visibility": null,
            "align_self": null,
            "height": null,
            "min_height": null,
            "padding": null,
            "grid_auto_rows": null,
            "grid_gap": null,
            "max_width": null,
            "order": null,
            "_view_module_version": "1.2.0",
            "grid_template_areas": null,
            "object_position": null,
            "object_fit": null,
            "grid_auto_columns": null,
            "margin": null,
            "display": null,
            "left": null
          }
        }
      }
    }
  },
  "cells": [
    {
      "cell_type": "markdown",
      "metadata": {
        "id": "ZzUMGi7sliFG",
        "colab_type": "text"
      },
      "source": [
        "# Các mô hình ngẫu nhiên và ứng dụng\n",
        "## Đề tài: Học tăng cường\n",
        "## Giảng viên hướng dẫn: TS. Nguyễn Thị Ngọc Anh\n",
        "## Sinh viên thực hiện:\n",
        "* Phùng Trọng Hiếu - 20151366\n",
        "* Cao Đăng Sao - 20163476\n",
        "* Nguyễn Mạnh Cường - 20140596\n",
        "* Ninh Ngọc Luyên - 20142747\n",
        "---"
      ]
    },
    {
      "cell_type": "markdown",
      "metadata": {
        "id": "LC6PNTNYnjIN",
        "colab_type": "text"
      },
      "source": [
        "![RL](https://www.learndatasci.com/documents/14/Reinforcement-Learning-Animation.gif)\n",
        "\n",
        "Minh họa đơn giản về quá trình học trong học tăng cường (Reinforcement Learning)"
      ]
    },
    {
      "cell_type": "markdown",
      "metadata": {
        "id": "l_TaLaX2o9bR",
        "colab_type": "text"
      },
      "source": [
        "# Bài toán\n",
        "## Chiếc taxi thông minh\n",
        "\n",
        "Ta có một chiếc taxi được trang bị các cảm biến, trí tuệ nhân tạo, ... để có thể tự vận hành trong mọi điều kiện giao thông và thời tiết. Nhiệm vụ của chiếc xe này là đón và trả khách tại những vị trí nhất định. Ngoài ra, việc vận chuyển hành khách cần phải thỏa mãn những tiêu chí sau:\n",
        "* Phải trả khách tại đúng vị trí được chỉ định\n",
        "* Tiết kiệm thời gian cho hành khách một cách tối đa\n",
        "* Đảm bảo hành khách được an toàn và phải tuân thủ tất cả các luật giao thông được đưa ra\n",
        "---"
      ]
    },
    {
      "cell_type": "markdown",
      "metadata": {
        "id": "TSq1sXI1q4H1",
        "colab_type": "text"
      },
      "source": [
        "# Mô hình hóa bài toán\n",
        "Trước khi có thể sử dụng các kỹ thuật học tăng cường để huấn luyện cho chiếc taxi (agent của chúng ta) thực hiện công việc đưa đón khách một cách tự động, ta cần phải quan tâm đến một vài khía cạnh về việc mô hình hóa bài toán. Ta cần phải biết phần thưởng (rewards), không gian trạng thái (state space) của chiếc taxi, và các hành động (actions) mà chiếc taxi có thể thực hiện tại mỗi trạng thái.\n",
        "\n",
        "## Phần thưởng\n",
        "Vì chiếc taxi sẽ được huấn luyện bằng cách thử và sai khi tương tác với môi trường, ta cần phải định nghĩa phần thưởng và/hoặc hình phạt cho nó:\n",
        "* Chiếc taxi (agent) sẽ nhận được một phần thưởng lớn (+20 điểm) khi trả khách thành công (trả đúng vị trí được đưa ra)\n",
        "* Chiếc taxi sẽ bị phạt nặng nếu nó trả khách sai vị trí (-10 điểm)\n",
        "* Chiếc taxi sẽ bị phạt \"nhẹ\" (slight negative reward) trong suốt chuyến hành trình đi đến vị trí trả khách (-1 điểm/bước). Hình phạt ở đây không được lớn vì ta không muốn việc chiếc taxi cố gắng \"lao\" đến đích một cách nhanh nhất có thể mà vi phạm luật giao thông hay gây nguy hiểm cho hành khách.\n",
        "\n",
        "## Không gian trạng thái\n",
        "Không gian trạng thái là tập chứa tất cả những tình huống mà chiếc taxi của chúng ta có thể gặp phải. Đây là nơi chứa những thông tin vô cùng cần thiết cho chiếc taxi để giúp nó có thể đưa ra những hành động \"đúng\" tương ứng với trạng thái mà nó đang ở.\n",
        "\n",
        "Giả sử, ta có một bãi tập cho chiếc taxi của chúng ta; ở đây, ta sẽ dạy chiếc taxi vận chuyển hành khách đến các vị trí (R, G, Y, B) trên bãi tập.\n",
        "\n",
        "![Training area](https://storage.googleapis.com/lds-media/images/Reinforcement_Learning_Taxi_Env.width-1200.png)\n",
        "\n",
        "Để đơn giản hóa bài toán, ta có một số giả định như sau:\n",
        "* Chiếc taxi là phương tiện duy nhất có trên bãi tập\n",
        "* Khu vực huấn luyện có thể được chia thành một lưới 5x5, cho ta tổng cộng 25 vị trí mà chiếc taxi có thể đỗ. Ví dụ, như ta có thể thấy trên hình vẽ, chiếc taxi đang nằm tại vị trí có tọa độ (3, 1); ngoài ra 4 vị trí R, G, Y, B có tọa độ lần lượt là (0,0), (0,4), (4,0), (4,3); vị hành khách đáng kính đang đứng tại vị trí Y và có mong muốn di chuyển đến vị trí R trên bãi tập.\n",
        "\n",
        "Vậy, ta có tổng cộng 5x5=25 vị trí mà chiếc taxi có thể xuất hiện, 4 đích đến, và 5 vị trí của hành khách (4 vị trí tại R, G, Y, B và 1 vị trí là ở trên chiếc taxi). Tổng số trạng thái có thể có của môi trường sẽ là 5×5×5×4=500 trạng thái.\n",
        "\n",
        "## Không gian hành động\n",
        "Tại mỗi thời điểm, chiếc taxi (agent của bài toán) sẽ nằm ở 1 trong tổng 500 trạng thái, và nó sẽ thực hiện một hành động tương ứng với trạng thái hiện có. Hành động ở đây có thể là đón/trả khách, và di chuyển quanh bãi tập.\n",
        "\n",
        "Không gian hành động của ta sẽ gồm:\n",
        "* Đi lên\n",
        "* Đi xuống\n",
        "* Đi sang trái\n",
        "* Đi sang phải\n",
        "* Đón khách\n",
        "* Trả khách\n",
        "\n",
        "Để ý rằng, tại một số trạng thái ta không thể thực hiện một vài hành động nhất định. Ví dụ như khi chiếc taxi ở vị trí mép tường bên trái, nó không thể thực hiện hành động đi sang trái; ta có thể giải quyết vấn đề này bằng việc phạt chiếc taxi khi rơi vào tình huống đó (tình huống bị \"đâm\" và tường) và giữ nguyên vị trí hiện tại của nó.\n",
        "\n",
        "---"
      ]
    },
    {
      "cell_type": "markdown",
      "metadata": {
        "id": "yVvZLPrD4yd9",
        "colab_type": "text"
      },
      "source": [
        "# Nạp các thư viện cần thiết"
      ]
    },
    {
      "cell_type": "code",
      "metadata": {
        "id": "S6Gsm0P4o8uj",
        "colab_type": "code",
        "colab": {}
      },
      "source": [
        "import numpy as np\n",
        "import gym\n",
        "import matplotlib.pyplot as plt\n",
        "import random\n",
        "from time import sleep\n",
        "from IPython.display import clear_output\n",
        "from tqdm import tqdm_notebook as tqdm"
      ],
      "execution_count": 0,
      "outputs": []
    },
    {
      "cell_type": "code",
      "metadata": {
        "id": "m0vO7z64l--u",
        "colab_type": "code",
        "outputId": "de29e103-5c5b-4e28-a72f-aede5c6ae13f",
        "colab": {
          "base_uri": "https://localhost:8080/",
          "height": 153
        }
      },
      "source": [
        "# Tạo môi trường\n",
        "env = gym.make(\"Taxi-v3\").env\n",
        "\n",
        "# Hiển thị kết quả của một frame\n",
        "env.render()"
      ],
      "execution_count": 0,
      "outputs": [
        {
          "output_type": "stream",
          "text": [
            "+---------+\n",
            "|\u001b[35mR\u001b[0m: |\u001b[43m \u001b[0m: :G|\n",
            "| : | : : |\n",
            "| : : : : |\n",
            "| | : | : |\n",
            "|\u001b[34;1mY\u001b[0m| : |B: |\n",
            "+---------+\n",
            "\n"
          ],
          "name": "stdout"
        }
      ]
    },
    {
      "cell_type": "markdown",
      "metadata": {
        "id": "DVBqUI9q8cEw",
        "colab_type": "text"
      },
      "source": [
        "# Các ký hiệu\n",
        "* Khối chữ nhật màu vàng: Chiếc taxi của bài toán (lúc chưa có hành khách)\n",
        "* Khối chữ nhật màu xanh: Chiếc taxi có chứa hành khách\n",
        "* Các ký tự '|' và '-': Tường chắn\n",
        "* R, G, Y, B: 4 vị trí đón và trả khách\n",
        "* Vị trí có màu xanh: Vị trí hành khách đang đứng\n",
        "* vị trí có màu tím: Đích đến mong muốn của hành khách"
      ]
    },
    {
      "cell_type": "code",
      "metadata": {
        "id": "DvEH3RUX5H8Q",
        "colab_type": "code",
        "outputId": "65d55271-ec06-4086-ba6b-194b7f7144e2",
        "colab": {
          "base_uri": "https://localhost:8080/",
          "height": 51
        }
      },
      "source": [
        "# In ra không gian hành động và không gian trạng thái của môi trường\n",
        "print(\"Không gian hành động: {}\".format(env.action_space))\n",
        "print(\"Không gian trạng thái: {}\".format(env.observation_space))"
      ],
      "execution_count": 0,
      "outputs": [
        {
          "output_type": "stream",
          "text": [
            "Không gian hành động: Discrete(6)\n",
            "Không gian trạng thái: Discrete(500)\n"
          ],
          "name": "stdout"
        }
      ]
    },
    {
      "cell_type": "markdown",
      "metadata": {
        "id": "NYSjJdX7-Dfo",
        "colab_type": "text"
      },
      "source": [
        "## Không gian hành động\n",
        "* 0: Đi xuống\n",
        "* 1: Đi lên\n",
        "* 2: Đi sang phải\n",
        "* 3: Đi sang trái\n",
        "* 4: Đón khách\n",
        "* 5: Trả khách\n",
        "\n",
        "## Không gian trạng thái\n",
        "500 trạng thái như được trình bày ở trên"
      ]
    },
    {
      "cell_type": "code",
      "metadata": {
        "id": "fvci7fH27t3b",
        "colab_type": "code",
        "outputId": "34e21d0d-a633-47fb-88ed-0cb2cc19cabf",
        "colab": {
          "base_uri": "https://localhost:8080/",
          "height": 170
        }
      },
      "source": [
        "# Khởi tạo lại trạng thái ban đầu như trong hình ảnh minh họa ở trên\n",
        "# Các tham số tương ứng: (giá trị hàng của taxi, giá trị cột của taxi, vị trí hành khách, đích đến)\n",
        "state = env.encode(3, 1, 2, 0)\n",
        "print(\"Trạng thái hiện tại:\", state)\n",
        "\n",
        "# Đặt lại trạng thái cho môi trường\n",
        "env.s = state\n",
        "env.render()"
      ],
      "execution_count": 0,
      "outputs": [
        {
          "output_type": "stream",
          "text": [
            "Trạng thái hiện tại: 328\n",
            "+---------+\n",
            "|\u001b[35mR\u001b[0m: | : :G|\n",
            "| : | : : |\n",
            "| : : : : |\n",
            "| |\u001b[43m \u001b[0m: | : |\n",
            "|\u001b[34;1mY\u001b[0m| : |B: |\n",
            "+---------+\n",
            "\n"
          ],
          "name": "stdout"
        }
      ]
    },
    {
      "cell_type": "code",
      "metadata": {
        "id": "2-wZKTuc-24P",
        "colab_type": "code",
        "outputId": "0682f9ee-a894-4f1b-9991-47ad037368a3",
        "colab": {
          "base_uri": "https://localhost:8080/",
          "height": 119
        }
      },
      "source": [
        "# In ra bảng phần thưởng tương ứng với trạng thái hiện tại\n",
        "# Cấu trúc của bảng: {action: [(probability, nextstate, reward, done)]}\n",
        "env.P[env.s]\n",
        "\n",
        "# Lưu ý:\n",
        "# Nếu chiếc taxi thực hiện hành động có index=3 (đi sang trái),\n",
        "# nó sẽ không di chuyển vì gặp bức tường và vẫn bị trừ 1 điểm\n",
        "# như một hình phạt cho việc đâm vào tường"
      ],
      "execution_count": 0,
      "outputs": [
        {
          "output_type": "execute_result",
          "data": {
            "text/plain": [
              "{0: [(1.0, 428, -1, False)],\n",
              " 1: [(1.0, 228, -1, False)],\n",
              " 2: [(1.0, 348, -1, False)],\n",
              " 3: [(1.0, 328, -1, False)],\n",
              " 4: [(1.0, 328, -10, False)],\n",
              " 5: [(1.0, 328, -10, False)]}"
            ]
          },
          "metadata": {
            "tags": []
          },
          "execution_count": 5
        }
      ]
    },
    {
      "cell_type": "code",
      "metadata": {
        "id": "5ovw8CS6DR4-",
        "colab_type": "code",
        "colab": {}
      },
      "source": [
        "# Khởi tạo Q-table\n",
        "q_table = np.zeros([env.observation_space.n, env.action_space.n])"
      ],
      "execution_count": 0,
      "outputs": []
    },
    {
      "cell_type": "markdown",
      "metadata": {
        "id": "wjoa2_FlMZ70",
        "colab_type": "text"
      },
      "source": [
        "# Huấn luyện chiếc taxi (agent)"
      ]
    },
    {
      "cell_type": "markdown",
      "metadata": {
        "id": "miSMY4RwMnC1",
        "colab_type": "text"
      },
      "source": [
        "### Cấu hình các siêu tham số"
      ]
    },
    {
      "cell_type": "code",
      "metadata": {
        "id": "_mdpLzOHMmf9",
        "colab_type": "code",
        "colab": {}
      },
      "source": [
        "alpha = 0.1\n",
        "gamma = 0.6\n",
        "epsilon = 0.1\n",
        "\n",
        "decay_rate = 0.99"
      ],
      "execution_count": 0,
      "outputs": []
    },
    {
      "cell_type": "markdown",
      "metadata": {
        "id": "g4rF__2FUUie",
        "colab_type": "text"
      },
      "source": [
        "### Tiến hành huấn luyện"
      ]
    },
    {
      "cell_type": "code",
      "metadata": {
        "id": "HKky5sqnHTo7",
        "colab_type": "code",
        "outputId": "37a1a9d3-4991-4363-831c-1787e12d4bee",
        "colab": {
          "base_uri": "https://localhost:8080/",
          "height": 100,
          "referenced_widgets": [
            "f04cc46f41fb48a9b091096f19ca45d3",
            "af3c3a4696664c5489296cf826c1f1a6",
            "851219b462444e35ad52ed1aa9c1b00a",
            "43436a3b790c4d94bb0b9dad539e7cbf",
            "49ca4f7100bc43e8b35ed3923b0da557",
            "57c3509721ba48dd86f63b75277b830b",
            "f00786fd7a0343aa892d8e86ef599dfa",
            "153347e3234549eeaeb85b4c242f9b56"
          ]
        }
      },
      "source": [
        "all_epochs = []\n",
        "all_penalties = []\n",
        "all_total_rewards = []\n",
        "frames = [] # Chứa tất cả các frame sinh ra trong suốt quá trình huấn luyện\n",
        "\n",
        "# Thực hiện việc huấn luyện chiếc taxi trong 100000 episodes\n",
        "for i in tqdm(range(1, 100001)):\n",
        "    state = env.reset() # Khởi tạo lại môi trường để bắt đầu một episode mới\n",
        "\n",
        "    epochs, penalties, total_rewards = 0, 0, 0\n",
        "    done = False\n",
        "    \n",
        "    while not done:\n",
        "        if random.uniform(0, 1) < epsilon:\n",
        "            # Khám phá không gian hành động\n",
        "            # bằng việc lấy mẫu ngẫu nhiên hành động tiếp theo\n",
        "            action = env.action_space.sample()\n",
        "        else:\n",
        "            # Khai thác các giá trị đã học từ Q-table,\n",
        "            # chọn hành động cho ta kết quả tốt nhất khi xét về lâu về dài\n",
        "            action = np.argmax(q_table[state])\n",
        "\n",
        "        next_state, reward, done, info = env.step(action)\n",
        "        \n",
        "        old_value = q_table[state, action]\n",
        "        next_max = np.max(q_table[next_state])\n",
        "        \n",
        "        # Cập nhật lại Q-value\n",
        "        new_value = (1 - alpha) * old_value + alpha * (reward + gamma * next_max)\n",
        "        q_table[state, action] = new_value\n",
        "\n",
        "        if reward == -10:\n",
        "            penalties += 1\n",
        "\n",
        "        state = next_state\n",
        "        epochs += 1\n",
        "        total_rewards += reward\n",
        "\n",
        "        # Lưu lại frame hiện tại\n",
        "        frames.append({\n",
        "            'frame': env.render(mode='ansi'),\n",
        "            'state': state,\n",
        "            'action': action,\n",
        "            'reward': reward\n",
        "            }\n",
        "        )\n",
        "\n",
        "    all_epochs.append(epochs)\n",
        "    all_penalties.append(penalties)\n",
        "    all_total_rewards.append(total_rewards)\n",
        "\n",
        "    if i % 1000 == 0:\n",
        "        # Giảm learning rate theo thời gian\n",
        "        alpha *= decay_rate\n",
        "\n",
        "print(\"Hoàn thành việc huấn luyện.\\n\")"
      ],
      "execution_count": 0,
      "outputs": [
        {
          "output_type": "display_data",
          "data": {
            "application/vnd.jupyter.widget-view+json": {
              "model_id": "f04cc46f41fb48a9b091096f19ca45d3",
              "version_minor": 0,
              "version_major": 2
            },
            "text/plain": [
              "HBox(children=(IntProgress(value=0, max=100000), HTML(value='')))"
            ]
          },
          "metadata": {
            "tags": []
          }
        },
        {
          "output_type": "stream",
          "text": [
            "\n",
            "Hoàn thành việc huấn luyện.\n",
            "\n"
          ],
          "name": "stdout"
        }
      ]
    },
    {
      "cell_type": "code",
      "metadata": {
        "id": "_vbJrzW3HstD",
        "colab_type": "code",
        "outputId": "a1bdd6cd-f051-4b2b-f134-6b443465af2f",
        "colab": {
          "base_uri": "https://localhost:8080/",
          "height": 51
        }
      },
      "source": [
        "# In kết quả học được tại một trạng thái trong Q-table\n",
        "q_table[328]"
      ],
      "execution_count": 0,
      "outputs": [
        {
          "output_type": "execute_result",
          "data": {
            "text/plain": [
              "array([ -2.40192401,  -2.27325184,  -2.39624606,  -2.35829093,\n",
              "       -10.50286502,  -9.45536743])"
            ]
          },
          "metadata": {
            "tags": []
          },
          "execution_count": 9
        }
      ]
    },
    {
      "cell_type": "markdown",
      "metadata": {
        "id": "wB_ssq1tmqHJ",
        "colab_type": "text"
      },
      "source": [
        "### Trực quan hóa kết quả trả về trong quá trình huấn luyện"
      ]
    },
    {
      "cell_type": "code",
      "metadata": {
        "id": "nfRNL2YnaKOF",
        "colab_type": "code",
        "outputId": "c6debafb-ebb0-4135-92df-ca8e8b02febd",
        "colab": {
          "base_uri": "https://localhost:8080/",
          "height": 279
        }
      },
      "source": [
        "plt.plot(all_epochs)\n",
        "plt.xlabel('Episode')\n",
        "plt.ylabel('Số bước chuyển')\n",
        "plt.show()"
      ],
      "execution_count": 0,
      "outputs": [
        {
          "output_type": "display_data",
          "data": {
            "image/png": "[encoded data removed]",
            "text/plain": [
              "<Figure size 432x288 with 1 Axes>"
            ]
          },
          "metadata": {
            "tags": []
          }
        }
      ]
    },
    {
      "cell_type": "code",
      "metadata": {
        "id": "G-0vrxtkbZPW",
        "colab_type": "code",
        "outputId": "1aabdf48-ad12-46a3-e5a1-c5a457e261ad",
        "colab": {
          "base_uri": "https://localhost:8080/",
          "height": 279
        }
      },
      "source": [
        "plt.plot(all_penalties)\n",
        "plt.xlabel('Episode')\n",
        "plt.ylabel('Số lần phạt')\n",
        "plt.show()"
      ],
      "execution_count": 0,
      "outputs": [
        {
          "output_type": "display_data",
          "data": {
            "image/png": "[encoded data removed]",
            "text/plain": [
              "<Figure size 432x288 with 1 Axes>"
            ]
          },
          "metadata": {
            "tags": []
          }
        }
      ]
    },
    {
      "cell_type": "code",
      "metadata": {
        "id": "XA1kqd1w80iG",
        "colab_type": "code",
        "outputId": "eb028b64-e7cc-44b6-aed9-33a9f74383c8",
        "colab": {
          "base_uri": "https://localhost:8080/",
          "height": 279
        }
      },
      "source": [
        "plt.plot(all_total_rewards)\n",
        "plt.xlabel('Episode')\n",
        "plt.ylabel('Tổng phần thưởng')\n",
        "plt.show()"
      ],
      "execution_count": 0,
      "outputs": [
        {
          "output_type": "display_data",
          "data": {
            "image/png": "[encoded data removed]",
            "text/plain": [
              "<Figure size 432x288 with 1 Axes>"
            ]
          },
          "metadata": {
            "tags": []
          }
        }
      ]
    },
    {
      "cell_type": "markdown",
      "metadata": {
        "id": "J3h8jKDRnHyu",
        "colab_type": "text"
      },
      "source": [
        "### Vẽ một vài frame trong quá trình huấn luyện"
      ]
    },
    {
      "cell_type": "code",
      "metadata": {
        "id": "f2VSLBNeq4F9",
        "colab_type": "code",
        "colab": {}
      },
      "source": [
        "num_frames_per_sec = 2"
      ],
      "execution_count": 0,
      "outputs": []
    },
    {
      "cell_type": "code",
      "metadata": {
        "id": "BEGSexZGqQfn",
        "colab_type": "code",
        "outputId": "f5443652-3096-43f6-986f-ebeea0ff677a",
        "colab": {
          "base_uri": "https://localhost:8080/"
        }
      },
      "source": [
        "# Lấy 50 frames đầu tiên (giai đoạn đầu của quá trình huấn luyện)\n",
        "selected_frames = frames[:50]\n",
        "\n",
        "for i, frame in enumerate(selected_frames):\n",
        "    print(frame['frame'])\n",
        "    print(f\"Frame thứ {i + 1}\")\n",
        "    print(f\"Trạng thái: {frame['state']}\")\n",
        "    print(f\"Hành động: {frame['action']}\")\n",
        "    print(f\"Phần thưởng: {frame['reward']}\")\n",
        "    sleep(1/num_frames_per_sec)\n",
        "    clear_output(wait=True)"
      ],
      "execution_count": 0,
      "outputs": [
        {
          "output_type": "stream",
          "text": [
            "+---------+\n",
            "|\u001b[35mR\u001b[0m: | : :G|\n",
            "| : | : : |\n",
            "| : : : : |\n",
            "| | : |\u001b[43m \u001b[0m: |\n",
            "|\u001b[34;1mY\u001b[0m| : |B: |\n",
            "+---------+\n",
            "  (West)\n",
            "\n",
            "Frame thứ 50\n",
            "Trạng thái: 368\n",
            "Hành động: 3\n",
            "Phần thưởng: -1\n"
          ],
          "name": "stdout"
        }
      ]
    },
    {
      "cell_type": "code",
      "metadata": {
        "id": "FbknRNJEnTuo",
        "colab_type": "code",
        "outputId": "9ac06737-16ee-4cb2-da9a-6fb914600fcc",
        "colab": {
          "base_uri": "https://localhost:8080/",
          "height": 238
        }
      },
      "source": [
        "# Lấy 50 frames cuối cùng (giai đoạn cuối của quá trình huấn luyện)\n",
        "selected_frames = frames[-50:]\n",
        "\n",
        "for i, frame in enumerate(selected_frames):\n",
        "    print(frame['frame'])\n",
        "    print(f\"Frame thứ {i + 1}\")\n",
        "    print(f\"Trạng thái: {frame['state']}\")\n",
        "    print(f\"Hành động: {frame['action']}\")\n",
        "    print(f\"Phần thưởng: {frame['reward']}\")\n",
        "    sleep(1/num_frames_per_sec)\n",
        "    clear_output(wait=True)"
      ],
      "execution_count": 0,
      "outputs": [
        {
          "output_type": "stream",
          "text": [
            "+---------+\n",
            "|R: | : :G|\n",
            "| : | : : |\n",
            "| : : : : |\n",
            "| | : | : |\n",
            "|\u001b[35m\u001b[34;1m\u001b[43mY\u001b[0m\u001b[0m\u001b[0m| : |B: |\n",
            "+---------+\n",
            "  (Dropoff)\n",
            "\n",
            "Frame thứ 50\n",
            "Trạng thái: 410\n",
            "Hành động: 5\n",
            "Phần thưởng: 20\n"
          ],
          "name": "stdout"
        }
      ]
    },
    {
      "cell_type": "markdown",
      "metadata": {
        "id": "t-Ux0XvLPV5l",
        "colab_type": "text"
      },
      "source": [
        "# Đánh giá hiệu quả của chiếc taxi sau quá trình huấn luyện"
      ]
    },
    {
      "cell_type": "code",
      "metadata": {
        "id": "QfhDmuy5ILe_",
        "colab_type": "code",
        "outputId": "700f28c2-0609-4422-e33e-d458a8fcf591",
        "colab": {
          "base_uri": "https://localhost:8080/",
          "height": 117,
          "referenced_widgets": [
            "b5dfac5f3598465b9f87227295d55697",
            "07d529d7bfab4ebc9e0153a50fbec3fd",
            "33b813e1cd894832bf0a737a22fc32da",
            "a77b4d0b7ed0459298d3a09ac3299541",
            "0205d4580d71468989933787d88b35d0",
            "5932c082305c49f59ccbf4137259ab75",
            "7bad17e32d0349b686bd02265aa9d4bc",
            "25b80a5be8724a1e9c1c4c4b1a2c8ec0"
          ]
        }
      },
      "source": [
        "total_epochs, total_penalties = 0, 0\n",
        "episodes = 1000\n",
        "\n",
        "for _ in tqdm(range(episodes)):\n",
        "    state = env.reset()\n",
        "    epochs, penalties = 0, 0\n",
        "    \n",
        "    done = False\n",
        "\n",
        "    while not done:\n",
        "        action = np.argmax(q_table[state])\n",
        "        state, reward, done, info = env.step(action)\n",
        "\n",
        "        if reward == -10:\n",
        "            penalties += 1\n",
        "\n",
        "        epochs += 1\n",
        "\n",
        "    total_penalties += penalties\n",
        "    total_epochs += epochs\n",
        "\n",
        "print(f\"Kết quả sau {episodes} episodes\")\n",
        "print(f\"Số bước chuyển trung bình mỗi episode: {total_epochs / episodes}\")\n",
        "print(f\"Giá trị phạt trung bình mỗi episode: {total_penalties / episodes}\")"
      ],
      "execution_count": 0,
      "outputs": [
        {
          "output_type": "display_data",
          "data": {
            "application/vnd.jupyter.widget-view+json": {
              "model_id": "b5dfac5f3598465b9f87227295d55697",
              "version_minor": 0,
              "version_major": 2
            },
            "text/plain": [
              "HBox(children=(IntProgress(value=0, max=1000), HTML(value='')))"
            ]
          },
          "metadata": {
            "tags": []
          }
        },
        {
          "output_type": "stream",
          "text": [
            "\n",
            "Kết quả sau 1000 episodes\n",
            "Số bước chuyển trung bình mỗi episode: 13.188\n",
            "Giá trị phạt trung bình mỗi episode: 0.0\n"
          ],
          "name": "stdout"
        }
      ]
    },
    {
      "cell_type": "code",
      "metadata": {
        "id": "Gkmv--cVIsty",
        "colab_type": "code",
        "colab": {}
      },
      "source": [
        "# Đóng môi trường, kết thúc phiên làm việc\n",
        "env.close()"
      ],
      "execution_count": 0,
      "outputs": []
    }
  ]
}