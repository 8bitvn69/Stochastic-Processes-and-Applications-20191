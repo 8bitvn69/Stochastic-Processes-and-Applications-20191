{
  "nbformat": 4,
  "nbformat_minor": 0,
  "metadata": {
    "colab": {
      "name": "Smart Taxi",
      "provenance": [],
      "collapsed_sections": []
    },
    "kernelspec": {
      "name": "python3",
      "display_name": "Python 3"
    },
    "widgets": {
      "application/vnd.jupyter.widget-state+json": {
        "fe5cefe940cf4345af833a277138f69d": {
          "model_module": "@jupyter-widgets/controls",
          "model_name": "HBoxModel",
          "state": {
            "_view_name": "HBoxView",
            "_dom_classes": [],
            "_model_name": "HBoxModel",
            "_view_module": "@jupyter-widgets/controls",
            "_model_module_version": "1.5.0",
            "_view_count": null,
            "_view_module_version": "1.5.0",
            "box_style": "",
            "layout": "IPY_MODEL_dff34e2a730e404986ecd16c197140fa",
            "_model_module": "@jupyter-widgets/controls",
            "children": [
              "IPY_MODEL_106de3bc4791436cb5f1cc70d74a1cb4",
              "IPY_MODEL_144b787e5d884de8908efcec22811d9b"
            ]
          }
        },
        "dff34e2a730e404986ecd16c197140fa": {
          "model_module": "@jupyter-widgets/base",
          "model_name": "LayoutModel",
          "state": {
            "_view_name": "LayoutView",
            "grid_template_rows": null,
            "right": null,
            "justify_content": null,
            "_view_module": "@jupyter-widgets/base",
            "overflow": null,
            "_model_module_version": "1.2.0",
            "_view_count": null,
            "flex_flow": null,
            "width": null,
            "min_width": null,
            "border": null,
            "align_items": null,
            "bottom": null,
            "_model_module": "@jupyter-widgets/base",
            "top": null,
            "grid_column": null,
            "overflow_y": null,
            "overflow_x": null,
            "grid_auto_flow": null,
            "grid_area": null,
            "grid_template_columns": null,
            "flex": null,
            "_model_name": "LayoutModel",
            "justify_items": null,
            "grid_row": null,
            "max_height": null,
            "align_content": null,
            "visibility": null,
            "align_self": null,
            "height": null,
            "min_height": null,
            "padding": null,
            "grid_auto_rows": null,
            "grid_gap": null,
            "max_width": null,
            "order": null,
            "_view_module_version": "1.2.0",
            "grid_template_areas": null,
            "object_position": null,
            "object_fit": null,
            "grid_auto_columns": null,
            "margin": null,
            "display": null,
            "left": null
          }
        },
        "106de3bc4791436cb5f1cc70d74a1cb4": {
          "model_module": "@jupyter-widgets/controls",
          "model_name": "IntProgressModel",
          "state": {
            "_view_name": "ProgressView",
            "style": "IPY_MODEL_30a573143c164e8497508acdaf5c0197",
            "_dom_classes": [],
            "description": "",
            "_model_name": "IntProgressModel",
            "bar_style": "success",
            "max": 100000,
            "_view_module": "@jupyter-widgets/controls",
            "_model_module_version": "1.5.0",
            "value": 100000,
            "_view_count": null,
            "_view_module_version": "1.5.0",
            "orientation": "horizontal",
            "min": 0,
            "description_tooltip": null,
            "_model_module": "@jupyter-widgets/controls",
            "layout": "IPY_MODEL_e9e8fc7bd69742a7b3e57c3f991ba109"
          }
        },
        "144b787e5d884de8908efcec22811d9b": {
          "model_module": "@jupyter-widgets/controls",
          "model_name": "HTMLModel",
          "state": {
            "_view_name": "HTMLView",
            "style": "IPY_MODEL_d77aa30da8234352811b1f37f18c75ed",
            "_dom_classes": [],
            "description": "",
            "_model_name": "HTMLModel",
            "placeholder": "​",
            "_view_module": "@jupyter-widgets/controls",
            "_model_module_version": "1.5.0",
            "value": "100% 100000/100000 [03:05&lt;00:00, 539.99it/s]",
            "_view_count": null,
            "_view_module_version": "1.5.0",
            "description_tooltip": null,
            "_model_module": "@jupyter-widgets/controls",
            "layout": "IPY_MODEL_8645b54073c94514be333aa8c00d5e19"
          }
        },
        "30a573143c164e8497508acdaf5c0197": {
          "model_module": "@jupyter-widgets/controls",
          "model_name": "ProgressStyleModel",
          "state": {
            "_view_name": "StyleView",
            "_model_name": "ProgressStyleModel",
            "description_width": "",
            "_view_module": "@jupyter-widgets/base",
            "_model_module_version": "1.5.0",
            "_view_count": null,
            "_view_module_version": "1.2.0",
            "bar_color": null,
            "_model_module": "@jupyter-widgets/controls"
          }
        },
        "e9e8fc7bd69742a7b3e57c3f991ba109": {
          "model_module": "@jupyter-widgets/base",
          "model_name": "LayoutModel",
          "state": {
            "_view_name": "LayoutView",
            "grid_template_rows": null,
            "right": null,
            "justify_content": null,
            "_view_module": "@jupyter-widgets/base",
            "overflow": null,
            "_model_module_version": "1.2.0",
            "_view_count": null,
            "flex_flow": null,
            "width": null,
            "min_width": null,
            "border": null,
            "align_items": null,
            "bottom": null,
            "_model_module": "@jupyter-widgets/base",
            "top": null,
            "grid_column": null,
            "overflow_y": null,
            "overflow_x": null,
            "grid_auto_flow": null,
            "grid_area": null,
            "grid_template_columns": null,
            "flex": null,
            "_model_name": "LayoutModel",
            "justify_items": null,
            "grid_row": null,
            "max_height": null,
            "align_content": null,
            "visibility": null,
            "align_self": null,
            "height": null,
            "min_height": null,
            "padding": null,
            "grid_auto_rows": null,
            "grid_gap": null,
            "max_width": null,
            "order": null,
            "_view_module_version": "1.2.0",
            "grid_template_areas": null,
            "object_position": null,
            "object_fit": null,
            "grid_auto_columns": null,
            "margin": null,
            "display": null,
            "left": null
          }
        },
        "d77aa30da8234352811b1f37f18c75ed": {
          "model_module": "@jupyter-widgets/controls",
          "model_name": "DescriptionStyleModel",
          "state": {
            "_view_name": "StyleView",
            "_model_name": "DescriptionStyleModel",
            "description_width": "",
            "_view_module": "@jupyter-widgets/base",
            "_model_module_version": "1.5.0",
            "_view_count": null,
            "_view_module_version": "1.2.0",
            "_model_module": "@jupyter-widgets/controls"
          }
        },
        "8645b54073c94514be333aa8c00d5e19": {
          "model_module": "@jupyter-widgets/base",
          "model_name": "LayoutModel",
          "state": {
            "_view_name": "LayoutView",
            "grid_template_rows": null,
            "right": null,
            "justify_content": null,
            "_view_module": "@jupyter-widgets/base",
            "overflow": null,
            "_model_module_version": "1.2.0",
            "_view_count": null,
            "flex_flow": null,
            "width": null,
            "min_width": null,
            "border": null,
            "align_items": null,
            "bottom": null,
            "_model_module": "@jupyter-widgets/base",
            "top": null,
            "grid_column": null,
            "overflow_y": null,
            "overflow_x": null,
            "grid_auto_flow": null,
            "grid_area": null,
            "grid_template_columns": null,
            "flex": null,
            "_model_name": "LayoutModel",
            "justify_items": null,
            "grid_row": null,
            "max_height": null,
            "align_content": null,
            "visibility": null,
            "align_self": null,
            "height": null,
            "min_height": null,
            "padding": null,
            "grid_auto_rows": null,
            "grid_gap": null,
            "max_width": null,
            "order": null,
            "_view_module_version": "1.2.0",
            "grid_template_areas": null,
            "object_position": null,
            "object_fit": null,
            "grid_auto_columns": null,
            "margin": null,
            "display": null,
            "left": null
          }
        },
        "86a363bd22df4b388f0e0b24f59842d0": {
          "model_module": "@jupyter-widgets/controls",
          "model_name": "HBoxModel",
          "state": {
            "_view_name": "HBoxView",
            "_dom_classes": [],
            "_model_name": "HBoxModel",
            "_view_module": "@jupyter-widgets/controls",
            "_model_module_version": "1.5.0",
            "_view_count": null,
            "_view_module_version": "1.5.0",
            "box_style": "",
            "layout": "IPY_MODEL_008bbb7a03594fc19b98291ae9860a63",
            "_model_module": "@jupyter-widgets/controls",
            "children": [
              "IPY_MODEL_80c4c7be8fc945559ea5a930fd82cf8d",
              "IPY_MODEL_9c5efe1fdb7b427aa3ddba44f5bb29dc"
            ]
          }
        },
        "008bbb7a03594fc19b98291ae9860a63": {
          "model_module": "@jupyter-widgets/base",
          "model_name": "LayoutModel",
          "state": {
            "_view_name": "LayoutView",
            "grid_template_rows": null,
            "right": null,
            "justify_content": null,
            "_view_module": "@jupyter-widgets/base",
            "overflow": null,
            "_model_module_version": "1.2.0",
            "_view_count": null,
            "flex_flow": null,
            "width": null,
            "min_width": null,
            "border": null,
            "align_items": null,
            "bottom": null,
            "_model_module": "@jupyter-widgets/base",
            "top": null,
            "grid_column": null,
            "overflow_y": null,
            "overflow_x": null,
            "grid_auto_flow": null,
            "grid_area": null,
            "grid_template_columns": null,
            "flex": null,
            "_model_name": "LayoutModel",
            "justify_items": null,
            "grid_row": null,
            "max_height": null,
            "align_content": null,
            "visibility": null,
            "align_self": null,
            "height": null,
            "min_height": null,
            "padding": null,
            "grid_auto_rows": null,
            "grid_gap": null,
            "max_width": null,
            "order": null,
            "_view_module_version": "1.2.0",
            "grid_template_areas": null,
            "object_position": null,
            "object_fit": null,
            "grid_auto_columns": null,
            "margin": null,
            "display": null,
            "left": null
          }
        },
        "80c4c7be8fc945559ea5a930fd82cf8d": {
          "model_module": "@jupyter-widgets/controls",
          "model_name": "IntProgressModel",
          "state": {
            "_view_name": "ProgressView",
            "style": "IPY_MODEL_16916a9aa45c4f248042411e0e8e3794",
            "_dom_classes": [],
            "description": "",
            "_model_name": "IntProgressModel",
            "bar_style": "success",
            "max": 1000,
            "_view_module": "@jupyter-widgets/controls",
            "_model_module_version": "1.5.0",
            "value": 1000,
            "_view_count": null,
            "_view_module_version": "1.5.0",
            "orientation": "horizontal",
            "min": 0,
            "description_tooltip": null,
            "_model_module": "@jupyter-widgets/controls",
            "layout": "IPY_MODEL_05378f18694742afbd4bb64f96685427"
          }
        },
        "9c5efe1fdb7b427aa3ddba44f5bb29dc": {
          "model_module": "@jupyter-widgets/controls",
          "model_name": "HTMLModel",
          "state": {
            "_view_name": "HTMLView",
            "style": "IPY_MODEL_3e5491e9709b435b91ac67b553a32f04",
            "_dom_classes": [],
            "description": "",
            "_model_name": "HTMLModel",
            "placeholder": "​",
            "_view_module": "@jupyter-widgets/controls",
            "_model_module_version": "1.5.0",
            "value": "100% 1000/1000 [00:00&lt;00:00, 2869.87it/s]",
            "_view_count": null,
            "_view_module_version": "1.5.0",
            "description_tooltip": null,
            "_model_module": "@jupyter-widgets/controls",
            "layout": "IPY_MODEL_f0113f9a42f84b84a2ae76e81c895010"
          }
        },
        "16916a9aa45c4f248042411e0e8e3794": {
          "model_module": "@jupyter-widgets/controls",
          "model_name": "ProgressStyleModel",
          "state": {
            "_view_name": "StyleView",
            "_model_name": "ProgressStyleModel",
            "description_width": "",
            "_view_module": "@jupyter-widgets/base",
            "_model_module_version": "1.5.0",
            "_view_count": null,
            "_view_module_version": "1.2.0",
            "bar_color": null,
            "_model_module": "@jupyter-widgets/controls"
          }
        },
        "05378f18694742afbd4bb64f96685427": {
          "model_module": "@jupyter-widgets/base",
          "model_name": "LayoutModel",
          "state": {
            "_view_name": "LayoutView",
            "grid_template_rows": null,
            "right": null,
            "justify_content": null,
            "_view_module": "@jupyter-widgets/base",
            "overflow": null,
            "_model_module_version": "1.2.0",
            "_view_count": null,
            "flex_flow": null,
            "width": null,
            "min_width": null,
            "border": null,
            "align_items": null,
            "bottom": null,
            "_model_module": "@jupyter-widgets/base",
            "top": null,
            "grid_column": null,
            "overflow_y": null,
            "overflow_x": null,
            "grid_auto_flow": null,
            "grid_area": null,
            "grid_template_columns": null,
            "flex": null,
            "_model_name": "LayoutModel",
            "justify_items": null,
            "grid_row": null,
            "max_height": null,
            "align_content": null,
            "visibility": null,
            "align_self": null,
            "height": null,
            "min_height": null,
            "padding": null,
            "grid_auto_rows": null,
            "grid_gap": null,
            "max_width": null,
            "order": null,
            "_view_module_version": "1.2.0",
            "grid_template_areas": null,
            "object_position": null,
            "object_fit": null,
            "grid_auto_columns": null,
            "margin": null,
            "display": null,
            "left": null
          }
        },
        "3e5491e9709b435b91ac67b553a32f04": {
          "model_module": "@jupyter-widgets/controls",
          "model_name": "DescriptionStyleModel",
          "state": {
            "_view_name": "StyleView",
            "_model_name": "DescriptionStyleModel",
            "description_width": "",
            "_view_module": "@jupyter-widgets/base",
            "_model_module_version": "1.5.0",
            "_view_count": null,
            "_view_module_version": "1.2.0",
            "_model_module": "@jupyter-widgets/controls"
          }
        },
        "f0113f9a42f84b84a2ae76e81c895010": {
          "model_module": "@jupyter-widgets/base",
          "model_name": "LayoutModel",
          "state": {
            "_view_name": "LayoutView",
            "grid_template_rows": null,
            "right": null,
            "justify_content": null,
            "_view_module": "@jupyter-widgets/base",
            "overflow": null,
            "_model_module_version": "1.2.0",
            "_view_count": null,
            "flex_flow": null,
            "width": null,
            "min_width": null,
            "border": null,
            "align_items": null,
            "bottom": null,
            "_model_module": "@jupyter-widgets/base",
            "top": null,
            "grid_column": null,
            "overflow_y": null,
            "overflow_x": null,
            "grid_auto_flow": null,
            "grid_area": null,
            "grid_template_columns": null,
            "flex": null,
            "_model_name": "LayoutModel",
            "justify_items": null,
            "grid_row": null,
            "max_height": null,
            "align_content": null,
            "visibility": null,
            "align_self": null,
            "height": null,
            "min_height": null,
            "padding": null,
            "grid_auto_rows": null,
            "grid_gap": null,
            "max_width": null,
            "order": null,
            "_view_module_version": "1.2.0",
            "grid_template_areas": null,
            "object_position": null,
            "object_fit": null,
            "grid_auto_columns": null,
            "margin": null,
            "display": null,
            "left": null
          }
        }
      }
    }
  },
  "cells": [
    {
      "cell_type": "markdown",
      "metadata": {
        "id": "ZzUMGi7sliFG",
        "colab_type": "text"
      },
      "source": [
        "# Các mô hình ngẫu nhiên và ứng dụng\n",
        "## Đề tài: Học tăng cường\n",
        "## Giảng viên hướng dẫn: TS. Nguyễn Thị Ngọc Anh\n",
        "## Sinh viên thực hiện:\n",
        "* Phùng Trọng Hiếu\n",
        "* Cao Đăng Sao\n",
        "* Nguyễn Mạnh Cường\n",
        "* Ninh Ngọc Luyên\n",
        "---"
      ]
    },
    {
      "cell_type": "markdown",
      "metadata": {
        "id": "LC6PNTNYnjIN",
        "colab_type": "text"
      },
      "source": [
        "![RL](https://www.learndatasci.com/documents/14/Reinforcement-Learning-Animation.gif)\n",
        "\n",
        "Minh họa đơn giản về quá trình học trong học tăng cường (Reinforcement Learning)"
      ]
    },
    {
      "cell_type": "markdown",
      "metadata": {
        "id": "l_TaLaX2o9bR",
        "colab_type": "text"
      },
      "source": [
        "# Bài toán\n",
        "## Chiếc taxi thông minh\n",
        "\n",
        "Ta có một chiếc taxi được trang bị các cảm biến, trí tuệ nhân tạo, ... để có thể tự vận hành trong mọi điều kiện giao thông và thời tiết. Nhiệm vụ của chiếc xe này là đón và trả khách tại những vị trí nhất định. Ngoài ra, việc vận chuyển hành khách cần phải thỏa mãn những tiêu chí sau:\n",
        "* Phải trả khách tại đúng vị trí được chỉ định\n",
        "* Tiết kiệm thời gian cho hành khách một cách tối đa\n",
        "* Đảm bảo hành khách được an toàn và phải tuân thủ tất cả các luật giao thông được đưa ra\n",
        "---"
      ]
    },
    {
      "cell_type": "markdown",
      "metadata": {
        "id": "TSq1sXI1q4H1",
        "colab_type": "text"
      },
      "source": [
        "# Mô hình hóa bài toán\n",
        "Trước khi có thể sử dụng các kỹ thuật học tăng cường để huấn luyện cho chiếc taxi (agent của chúng ta) thực hiện công việc đưa đón khách một cách tự động, ta cần phải quan tâm đến một vài khía cạnh về việc mô hình hóa bài toán. Ta cần phải biết phần thưởng (rewards), không gian trạng thái (state space) của chiếc taxi, và các hành động (actions) mà chiếc taxi có thể thực hiện tại mỗi trạng thái.\n",
        "\n",
        "## Phần thưởng\n",
        "Vì chiếc taxi sẽ được huấn luyện bằng cách thử và sai khi tương tác với môi trường, ta cần phải định nghĩa phần thưởng và/hoặc hình phạt cho nó:\n",
        "* Chiếc taxi (agent) sẽ nhận được một phần thưởng lớn (+20 điểm) khi trả khách thành công (trả đúng vị trí được đưa ra)\n",
        "* Chiếc taxi sẽ bị phạt nặng nếu nó trả khách sai vị trí (-10 điểm)\n",
        "* Chiếc taxi sẽ bị phạt \"nhẹ\" (slight negative reward) trong suốt chuyến hành trình đi đến vị trí trả khách (-1 điểm/bước). Hình phạt ở đây không được lớn vì ta không muốn việc chiếc taxi cố gắng \"lao\" đến đích một cách nhanh nhất có thể mà vi phạm luật giao thông hay gây nguy hiểm cho hành khách.\n",
        "\n",
        "## Không gian trạng thái\n",
        "Không gian trạng thái là tập chứa tất cả những tình huống mà chiếc taxi của chúng ta có thể gặp phải. Đây là nơi chứa những thông tin vô cùng cần thiết cho chiếc taxi để giúp nó có thể đưa ra những hành động \"đúng\" tương ứng với trạng thái mà nó đang ở.\n",
        "\n",
        "Giả sử, ta có một bãi tập cho chiếc taxi của chúng ta; ở đây, ta sẽ dạy chiếc taxi vận chuyển hành khách đến các vị trí (R, G, Y, B) trên bãi tập.\n",
        "\n",
        "![Training area](https://storage.googleapis.com/lds-media/images/Reinforcement_Learning_Taxi_Env.width-1200.png)\n",
        "\n",
        "Để đơn giản hóa bài toán, ta có một số giả định như sau:\n",
        "* Chiếc taxi là phương tiện duy nhất có trên bãi tập\n",
        "* Khu vực huấn luyện có thể được chia thành một lưới 5x5, cho ta tổng cộng 25 vị trí mà chiếc taxi có thể đỗ. Ví dụ, như ta có thể thấy trên hình vẽ, chiếc taxi đang nằm tại vị trí có tọa độ (3, 1); ngoài ra 4 vị trí R, G, Y, B có tọa độ lần lượt là (0,0), (0,4), (4,0), (4,3); vị hành khách đáng kính đang đứng tại vị trí Y và có mong muốn di chuyển đến vị trí R trên bãi tập.\n",
        "\n",
        "Vậy, ta có tổng cộng 5x5=25 vị trí mà chiếc taxi có thể xuất hiện, 4 đích đến, và 5 vị trí của hành khách (4 vị trí tại R, G, Y, B và 1 vị trí là ở trên chiếc taxi). Tổng số trạng thái có thể có của môi trường sẽ là 5×5×5×4=500 trạng thái.\n",
        "\n",
        "## Hành động\n",
        "Tại mỗi thời điểm, chiếc taxi (agent của bài toans) sẽ nằm ở 1 trong tổng 500 trạng thái, và nó sẽ thực hiện một hành động tương ứng với trạng thái hiện có. Hành động ở đây có thể là đón/trả khách, và di chuyển quanh bãi tập.\n",
        "\n",
        "Không gian hành động của ta sẽ gồm:\n",
        "* Đi lên\n",
        "* Đi xuống\n",
        "* Đi sang trái\n",
        "* Đi sang phải\n",
        "* Đón khách\n",
        "* Trả khách\n",
        "\n",
        "Để ý rằng, tại một số trạng thái ta không thể thực hiện một vài hành động nhất định. Ví dụ như khi chiếc taxi ở vị trí mép tường bên trái, nó không thể thực hiện hành động đi sang trái; ta có thể giải quyết vấn đề này bằng việc phạt chiếc taxi khi rơi vào tình huống đó (tình huống bị \"đâm\" và tường) và giữ nguyên vị trí hiện tại của nó.\n",
        "\n",
        "---"
      ]
    },
    {
      "cell_type": "markdown",
      "metadata": {
        "id": "yVvZLPrD4yd9",
        "colab_type": "text"
      },
      "source": [
        "# Nạp các thư viện cần thiết"
      ]
    },
    {
      "cell_type": "code",
      "metadata": {
        "id": "S6Gsm0P4o8uj",
        "colab_type": "code",
        "colab": {}
      },
      "source": [
        "import numpy as np\n",
        "import gym\n",
        "import matplotlib.pyplot as plt\n",
        "import random\n",
        "from time import sleep\n",
        "from IPython.display import clear_output\n",
        "from tqdm import tqdm_notebook as tqdm"
      ],
      "execution_count": 0,
      "outputs": []
    },
    {
      "cell_type": "code",
      "metadata": {
        "id": "m0vO7z64l--u",
        "colab_type": "code",
        "outputId": "d78a3739-90a6-4df0-c341-9aeaee6b5709",
        "colab": {
          "base_uri": "https://localhost:8080/",
          "height": 153
        }
      },
      "source": [
        "# Tạo môi trường\n",
        "env = gym.make(\"Taxi-v3\").env\n",
        "\n",
        "# Hiển thị kết quả của một frame\n",
        "env.render()"
      ],
      "execution_count": 2,
      "outputs": [
        {
          "output_type": "stream",
          "text": [
            "+---------+\n",
            "|\u001b[35mR\u001b[0m: | : :\u001b[34;1mG\u001b[0m|\n",
            "|\u001b[43m \u001b[0m: | : : |\n",
            "| : : : : |\n",
            "| | : | : |\n",
            "|Y| : |B: |\n",
            "+---------+\n",
            "\n"
          ],
          "name": "stdout"
        }
      ]
    },
    {
      "cell_type": "markdown",
      "metadata": {
        "id": "DVBqUI9q8cEw",
        "colab_type": "text"
      },
      "source": [
        "# Các ký hiệu\n",
        "* Khối chữ nhật màu vàng: Chiếc taxi của bài toán (lúc chưa có hành khách)\n",
        "* Khối chữ nhật màu xanh: Chiếc taxi có chứa hành khách\n",
        "* Các ký tự '|' và '-': Tường chắn\n",
        "* R, G, Y, B: 4 vị trí đón và trả khách\n",
        "* Vị trí có màu xanh: Vị trí hành khách đang đứng\n",
        "* vị trí có màu tím: Đích đến mong muốn của hành khách"
      ]
    },
    {
      "cell_type": "code",
      "metadata": {
        "id": "DvEH3RUX5H8Q",
        "colab_type": "code",
        "outputId": "3cfc9472-d25c-4c0b-b4c8-ce3521c400be",
        "colab": {
          "base_uri": "https://localhost:8080/",
          "height": 51
        }
      },
      "source": [
        "# In ra không gian hành động và không gian trạng thái của môi trường\n",
        "print(\"Không gian hành động: {}\".format(env.action_space))\n",
        "print(\"Không gian trạng thái: {}\".format(env.observation_space))"
      ],
      "execution_count": 3,
      "outputs": [
        {
          "output_type": "stream",
          "text": [
            "Không gian hành động: Discrete(6)\n",
            "Không gian trạng thái: Discrete(500)\n"
          ],
          "name": "stdout"
        }
      ]
    },
    {
      "cell_type": "markdown",
      "metadata": {
        "id": "NYSjJdX7-Dfo",
        "colab_type": "text"
      },
      "source": [
        "## Không gian hành động\n",
        "* 0: Đi xuống\n",
        "* 1: Đi lên\n",
        "* 2: Đi sang phải\n",
        "* 3: Đi sang trái\n",
        "* 4: Đón khách\n",
        "* 5: Trả khách\n",
        "\n",
        "## Không gian trạng thái\n",
        "500 trạng thái như được trình bày ở trên"
      ]
    },
    {
      "cell_type": "code",
      "metadata": {
        "id": "fvci7fH27t3b",
        "colab_type": "code",
        "outputId": "59e63161-fa41-4811-fde9-b50a285b4136",
        "colab": {
          "base_uri": "https://localhost:8080/",
          "height": 170
        }
      },
      "source": [
        "# Khởi tạo lại trạng thái ban đầu như trong hình ảnh minh họa ở trên\n",
        "# Các tham số tương ứng: (giá trị hàng của taxi, giá trị cột của taxi, vị trí hành khách, đích đến)\n",
        "state = env.encode(3, 1, 2, 0)\n",
        "print(\"Trạng thái hiện tại:\", state)\n",
        "\n",
        "# Đặt lại trạng thái cho môi trường\n",
        "env.s = state\n",
        "env.render()"
      ],
      "execution_count": 4,
      "outputs": [
        {
          "output_type": "stream",
          "text": [
            "Trạng thái hiện tại: 328\n",
            "+---------+\n",
            "|\u001b[35mR\u001b[0m: | : :G|\n",
            "| : | : : |\n",
            "| : : : : |\n",
            "| |\u001b[43m \u001b[0m: | : |\n",
            "|\u001b[34;1mY\u001b[0m| : |B: |\n",
            "+---------+\n",
            "\n"
          ],
          "name": "stdout"
        }
      ]
    },
    {
      "cell_type": "code",
      "metadata": {
        "id": "2-wZKTuc-24P",
        "colab_type": "code",
        "outputId": "2866fe25-3679-459e-fdbe-b95df76c3005",
        "colab": {
          "base_uri": "https://localhost:8080/",
          "height": 119
        }
      },
      "source": [
        "# In ra bảng phần thưởng tương ứng với trạng thái hiện tại\n",
        "# Cấu trúc của bảng: {action: [(probability, nextstate, reward, done)]}\n",
        "env.P[env.s]\n",
        "\n",
        "# Lưu ý:\n",
        "# Nếu chiếc taxi thực hiện hành động có index=3 (đi sang trái),\n",
        "# nó sẽ không di chuyển vì gặp bức tường và vẫn bị trừ 1 điểm\n",
        "# như một hình phạt cho việc đâm vào tường"
      ],
      "execution_count": 5,
      "outputs": [
        {
          "output_type": "execute_result",
          "data": {
            "text/plain": [
              "{0: [(1.0, 428, -1, False)],\n",
              " 1: [(1.0, 228, -1, False)],\n",
              " 2: [(1.0, 348, -1, False)],\n",
              " 3: [(1.0, 328, -1, False)],\n",
              " 4: [(1.0, 328, -10, False)],\n",
              " 5: [(1.0, 328, -10, False)]}"
            ]
          },
          "metadata": {
            "tags": []
          },
          "execution_count": 5
        }
      ]
    },
    {
      "cell_type": "code",
      "metadata": {
        "id": "5ovw8CS6DR4-",
        "colab_type": "code",
        "colab": {}
      },
      "source": [
        "# Khởi tạo Q-table\n",
        "q_table = np.zeros([env.observation_space.n, env.action_space.n])"
      ],
      "execution_count": 0,
      "outputs": []
    },
    {
      "cell_type": "markdown",
      "metadata": {
        "id": "wjoa2_FlMZ70",
        "colab_type": "text"
      },
      "source": [
        "# Huấn luyện chiếc taxi (agent)"
      ]
    },
    {
      "cell_type": "markdown",
      "metadata": {
        "id": "miSMY4RwMnC1",
        "colab_type": "text"
      },
      "source": [
        "Cấu hình các siêu tham số"
      ]
    },
    {
      "cell_type": "code",
      "metadata": {
        "id": "_mdpLzOHMmf9",
        "colab_type": "code",
        "colab": {}
      },
      "source": [
        "alpha = 0.1\n",
        "gamma = 0.6\n",
        "epsilon = 0.1\n",
        "\n",
        "decay_rate = 0.99"
      ],
      "execution_count": 0,
      "outputs": []
    },
    {
      "cell_type": "code",
      "metadata": {
        "id": "HKky5sqnHTo7",
        "colab_type": "code",
        "outputId": "e7ae20de-5eb1-4fc0-a7d3-eb8323d90336",
        "colab": {
          "base_uri": "https://localhost:8080/",
          "height": 100,
          "referenced_widgets": [
            "fe5cefe940cf4345af833a277138f69d",
            "dff34e2a730e404986ecd16c197140fa",
            "106de3bc4791436cb5f1cc70d74a1cb4",
            "144b787e5d884de8908efcec22811d9b",
            "30a573143c164e8497508acdaf5c0197",
            "e9e8fc7bd69742a7b3e57c3f991ba109",
            "d77aa30da8234352811b1f37f18c75ed",
            "8645b54073c94514be333aa8c00d5e19"
          ]
        }
      },
      "source": [
        "all_epochs = []\n",
        "all_penalties = []\n",
        "all_total_rewards = []\n",
        "frames = [] # Chứa tất cả các frame sinh ra trong suốt quá trình huấn luyện\n",
        "\n",
        "# Thực hiện việc huấn luyện chiếc taxi trong 100000 episodes\n",
        "for i in tqdm(range(1, 100001)):\n",
        "    state = env.reset() # Khởi tạo lại môi trường để bắt đầu một episode mới\n",
        "\n",
        "    epochs, penalties, total_rewards = 0, 0, 0\n",
        "    done = False\n",
        "    \n",
        "    while not done:\n",
        "        if random.uniform(0, 1) < epsilon:\n",
        "            # Khám phá không gian hành động\n",
        "            # bằng việc lấy mẫu ngẫu nhiên hành động tiếp theo\n",
        "            action = env.action_space.sample()\n",
        "        else:\n",
        "            # Khai thác các giá trị đã học từ Q-table,\n",
        "            # chọn hành động cho ta kết quả tốt nhất khi xét về lâu về dài\n",
        "            action = np.argmax(q_table[state])\n",
        "\n",
        "        next_state, reward, done, info = env.step(action)\n",
        "        \n",
        "        old_value = q_table[state, action]\n",
        "        next_max = np.max(q_table[next_state])\n",
        "        \n",
        "        # Cập nhật lại Q-value\n",
        "        new_value = (1 - alpha) * old_value + alpha * (reward + gamma * next_max)\n",
        "        q_table[state, action] = new_value\n",
        "\n",
        "        if reward == -10:\n",
        "            penalties += 1\n",
        "\n",
        "        state = next_state\n",
        "        epochs += 1\n",
        "        total_rewards += reward\n",
        "\n",
        "        # Lưu lại frame hiện tại\n",
        "        frames.append({\n",
        "            'frame': env.render(mode='ansi'),\n",
        "            'state': state,\n",
        "            'action': action,\n",
        "            'reward': reward\n",
        "            }\n",
        "        )\n",
        "\n",
        "    all_epochs.append(epochs)\n",
        "    all_penalties.append(penalties)\n",
        "    all_total_rewards.append(total_rewards)\n",
        "\n",
        "    if i % 1000 == 0:\n",
        "        # Giảm learning rate theo thời gian\n",
        "        alpha *= decay_rate\n",
        "\n",
        "print(\"Hoàn thành việc huấn luyện.\\n\")"
      ],
      "execution_count": 8,
      "outputs": [
        {
          "output_type": "display_data",
          "data": {
            "application/vnd.jupyter.widget-view+json": {
              "model_id": "fe5cefe940cf4345af833a277138f69d",
              "version_minor": 0,
              "version_major": 2
            },
            "text/plain": [
              "HBox(children=(IntProgress(value=0, max=100000), HTML(value='')))"
            ]
          },
          "metadata": {
            "tags": []
          }
        },
        {
          "output_type": "stream",
          "text": [
            "\n",
            "Hoàn thành việc huấn luyện.\n",
            "\n"
          ],
          "name": "stdout"
        }
      ]
    },
    {
      "cell_type": "code",
      "metadata": {
        "id": "_vbJrzW3HstD",
        "colab_type": "code",
        "outputId": "a112b1d2-0a11-4c6e-cc08-09791c65e125",
        "colab": {
          "base_uri": "https://localhost:8080/",
          "height": 51
        }
      },
      "source": [
        "# In kết quả học được tại một trạng thái trong Q-table\n",
        "q_table[328]"
      ],
      "execution_count": 9,
      "outputs": [
        {
          "output_type": "execute_result",
          "data": {
            "text/plain": [
              "array([-2.38542986, -2.27325184, -2.39750592, -2.3444045 , -9.81873452,\n",
              "       -8.90265216])"
            ]
          },
          "metadata": {
            "tags": []
          },
          "execution_count": 9
        }
      ]
    },
    {
      "cell_type": "markdown",
      "metadata": {
        "id": "wB_ssq1tmqHJ",
        "colab_type": "text"
      },
      "source": [
        "Trực quan hóa kết quả trả về trong quá trình huấn luyện"
      ]
    },
    {
      "cell_type": "code",
      "metadata": {
        "id": "nfRNL2YnaKOF",
        "colab_type": "code",
        "outputId": "11598c64-40f8-47a1-b1d4-95aca71ef262",
        "colab": {
          "base_uri": "https://localhost:8080/",
          "height": 280
        }
      },
      "source": [
        "plt.plot(all_epochs)\n",
        "plt.xlabel('Episode')\n",
        "plt.ylabel('Số bước chuyển')\n",
        "plt.show()"
      ],
      "execution_count": 10,
      "outputs": [
        {
          "output_type": "display_data",
          "data": {
            "image/png": "[encoded data removed]",
            "text/plain": [
              "<Figure size 432x288 with 1 Axes>"
            ]
          },
          "metadata": {
            "tags": []
          }
        }
      ]
    },
    {
      "cell_type": "code",
      "metadata": {
        "id": "G-0vrxtkbZPW",
        "colab_type": "code",
        "outputId": "8e4e9287-d52a-4698-c520-13b75756e9ea",
        "colab": {
          "base_uri": "https://localhost:8080/",
          "height": 279
        }
      },
      "source": [
        "plt.plot(all_penalties)\n",
        "plt.xlabel('Episode')\n",
        "plt.ylabel('Số lần phạt')\n",
        "plt.show()"
      ],
      "execution_count": 11,
      "outputs": [
        {
          "output_type": "display_data",
          "data": {
            "image/png": "[encoded data removed]",
            "text/plain": [
              "<Figure size 432x288 with 1 Axes>"
            ]
          },
          "metadata": {
            "tags": []
          }
        }
      ]
    },
    {
      "cell_type": "code",
      "metadata": {
        "id": "XA1kqd1w80iG",
        "colab_type": "code",
        "outputId": "6f309fe0-340c-4ed3-f275-296e77217b55",
        "colab": {
          "base_uri": "https://localhost:8080/",
          "height": 279
        }
      },
      "source": [
        "plt.plot(all_total_rewards)\n",
        "plt.xlabel('Episode')\n",
        "plt.ylabel('Tổng phần thưởng')\n",
        "plt.show()"
      ],
      "execution_count": 12,
      "outputs": [
        {
          "output_type": "display_data",
          "data": {
            "image/png": "[encoded data removed]",
            "text/plain": [
              "<Figure size 432x288 with 1 Axes>"
            ]
          },
          "metadata": {
            "tags": []
          }
        }
      ]
    },
    {
      "cell_type": "markdown",
      "metadata": {
        "id": "J3h8jKDRnHyu",
        "colab_type": "text"
      },
      "source": [
        "Vẽ một vài frame trong quá trình huấn luyện"
      ]
    },
    {
      "cell_type": "code",
      "metadata": {
        "id": "f2VSLBNeq4F9",
        "colab_type": "code",
        "colab": {}
      },
      "source": [
        "num_frames_per_sec = 2"
      ],
      "execution_count": 0,
      "outputs": []
    },
    {
      "cell_type": "code",
      "metadata": {
        "id": "BEGSexZGqQfn",
        "colab_type": "code",
        "outputId": "aacf24bc-e555-4c95-f4ea-d1ed6d2f56d8",
        "colab": {
          "base_uri": "https://localhost:8080/",
          "height": 238
        }
      },
      "source": [
        "# Lấy 50 frames đầu tiên (giai đoạn đầu của quá trình huấn luyện)\n",
        "selected_frames = frames[:50]\n",
        "\n",
        "for i, frame in enumerate(selected_frames):\n",
        "    print(frame['frame'])\n",
        "    print(f\"Frame thứ {i + 1}\")\n",
        "    print(f\"Trạng thái: {frame['state']}\")\n",
        "    print(f\"Hành động: {frame['action']}\")\n",
        "    print(f\"Phần thưởng: {frame['reward']}\")\n",
        "    sleep(1/num_frames_per_sec)\n",
        "    clear_output(wait=True)"
      ],
      "execution_count": 14,
      "outputs": [
        {
          "output_type": "stream",
          "text": [
            "+---------+\n",
            "|R: | : :\u001b[35mG\u001b[0m|\n",
            "| : | : : |\n",
            "| : : : : |\n",
            "| | : |\u001b[43m \u001b[0m: |\n",
            "|Y| : |\u001b[34;1mB\u001b[0m: |\n",
            "+---------+\n",
            "  (North)\n",
            "\n",
            "Frame thứ 50\n",
            "Trạng thái: 373\n",
            "Hành động: 1\n",
            "Phần thưởng: -1\n"
          ],
          "name": "stdout"
        }
      ]
    },
    {
      "cell_type": "code",
      "metadata": {
        "id": "FbknRNJEnTuo",
        "colab_type": "code",
        "outputId": "2c3b3418-8fe1-437d-ca58-19ef056c9d4c",
        "colab": {
          "base_uri": "https://localhost:8080/",
          "height": 238
        }
      },
      "source": [
        "# Lấy 50 frames cuối cùng (giai đoạn cuối của quá trình huấn luyện)\n",
        "selected_frames = frames[-50:]\n",
        "\n",
        "for i, frame in enumerate(selected_frames):\n",
        "    print(frame['frame'])\n",
        "    print(f\"Frame thứ {i + 1}\")\n",
        "    print(f\"Trạng thái: {frame['state']}\")\n",
        "    print(f\"Hành động: {frame['action']}\")\n",
        "    print(f\"Phần thưởng: {frame['reward']}\")\n",
        "    sleep(1/num_frames_per_sec)\n",
        "    clear_output(wait=True)"
      ],
      "execution_count": 15,
      "outputs": [
        {
          "output_type": "stream",
          "text": [
            "+---------+\n",
            "|R: | : :G|\n",
            "| : | : : |\n",
            "| : : : : |\n",
            "| | : | : |\n",
            "|Y| : |\u001b[35m\u001b[34;1m\u001b[43mB\u001b[0m\u001b[0m\u001b[0m: |\n",
            "+---------+\n",
            "  (Dropoff)\n",
            "\n",
            "Frame thứ 50\n",
            "Trạng thái: 475\n",
            "Hành động: 5\n",
            "Phần thưởng: 20\n"
          ],
          "name": "stdout"
        }
      ]
    },
    {
      "cell_type": "markdown",
      "metadata": {
        "id": "t-Ux0XvLPV5l",
        "colab_type": "text"
      },
      "source": [
        "# Đánh giá hiệu quả của chiếc taxi sau quá trình huấn luyện"
      ]
    },
    {
      "cell_type": "code",
      "metadata": {
        "id": "QfhDmuy5ILe_",
        "colab_type": "code",
        "outputId": "f3cba0a7-39e2-45c6-ddba-0066fdbc7cd6",
        "colab": {
          "base_uri": "https://localhost:8080/",
          "height": 117,
          "referenced_widgets": [
            "86a363bd22df4b388f0e0b24f59842d0",
            "008bbb7a03594fc19b98291ae9860a63",
            "80c4c7be8fc945559ea5a930fd82cf8d",
            "9c5efe1fdb7b427aa3ddba44f5bb29dc",
            "16916a9aa45c4f248042411e0e8e3794",
            "05378f18694742afbd4bb64f96685427",
            "3e5491e9709b435b91ac67b553a32f04",
            "f0113f9a42f84b84a2ae76e81c895010"
          ]
        }
      },
      "source": [
        "total_epochs, total_penalties = 0, 0\n",
        "episodes = 1000\n",
        "\n",
        "for _ in tqdm(range(episodes)):\n",
        "    state = env.reset()\n",
        "    epochs, penalties = 0, 0\n",
        "    \n",
        "    done = False\n",
        "\n",
        "    while not done:\n",
        "        action = np.argmax(q_table[state])\n",
        "        state, reward, done, info = env.step(action)\n",
        "\n",
        "        if reward == -10:\n",
        "            penalties += 1\n",
        "\n",
        "        epochs += 1\n",
        "\n",
        "    total_penalties += penalties\n",
        "    total_epochs += epochs\n",
        "\n",
        "print(f\"Kết quả sau {episodes} episodes\")\n",
        "print(f\"Số bước chuyển trung bình mỗi episode: {total_epochs / episodes}\")\n",
        "print(f\"Giá trị phạt trung bình mỗi episode: {total_penalties / episodes}\")"
      ],
      "execution_count": 16,
      "outputs": [
        {
          "output_type": "display_data",
          "data": {
            "application/vnd.jupyter.widget-view+json": {
              "model_id": "86a363bd22df4b388f0e0b24f59842d0",
              "version_minor": 0,
              "version_major": 2
            },
            "text/plain": [
              "HBox(children=(IntProgress(value=0, max=1000), HTML(value='')))"
            ]
          },
          "metadata": {
            "tags": []
          }
        },
        {
          "output_type": "stream",
          "text": [
            "\n",
            "Kết quả sau 1000 episodes\n",
            "Số bước chuyển trung bình mỗi episode: 13.079\n",
            "Giá trị phạt trung bình mỗi episode: 0.0\n"
          ],
          "name": "stdout"
        }
      ]
    },
    {
      "cell_type": "code",
      "metadata": {
        "id": "Gkmv--cVIsty",
        "colab_type": "code",
        "colab": {}
      },
      "source": [
        ""
      ],
      "execution_count": 0,
      "outputs": []
    }
  ]
}